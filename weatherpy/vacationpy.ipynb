{
 "cells": [
  {
   "cell_type": "markdown",
   "metadata": {
    "pycharm": {
     "name": "#%% md\n"
    }
   },
   "source": [
    "# VacationPy"
   ]
  },
  {
   "cell_type": "code",
   "execution_count": 1,
   "metadata": {},
   "outputs": [],
   "source": [
    "# import dependencies\n",
    "import gmaps\n",
    "import pandas as pd\n",
    "\n",
    "# import google api key\n",
    "from config.config import google_api_key\n",
    "\n",
    "# contains python code for data pull\n",
    "import vacationpy\n",
    "\n",
    "gmaps.configure(api_key = google_api_key)"
   ]
  },
  {
   "cell_type": "code",
   "execution_count": 2,
   "metadata": {
    "pycharm": {
     "name": "#%%\n"
    }
   },
   "outputs": [],
   "source": [
    "city_weather_df = pd.read_csv('../output_data/cities.csv')"
   ]
  },
  {
   "cell_type": "code",
   "execution_count": 3,
   "metadata": {
    "pycharm": {
     "name": "#%%\n"
    }
   },
   "outputs": [],
   "source": [
    "# get coordinates and humidity values to plot\n",
    "coordinates = city_weather_df[['Lat', 'Lng']].astype(float)\n",
    "humidity = city_weather_df['Humidity'].astype(float)"
   ]
  },
  {
   "cell_type": "code",
   "execution_count": 4,
   "metadata": {
    "pycharm": {
     "name": "#%%\n"
    }
   },
   "outputs": [],
   "source": [
    "# Plot Heatmap\n",
    "fig = gmaps.figure()\n",
    "\n",
    "heat_layer = gmaps.heatmap_layer(coordinates, weights=humidity, dissipating=False, max_intensity=200, point_radius=5)\n",
    "\n",
    "# Add Layer\n",
    "fig.add_layer(heat_layer)"
   ]
  },
  {
   "cell_type": "code",
   "execution_count": 5,
   "metadata": {
    "pycharm": {
     "name": "#%% Ideal Weather\n"
    }
   },
   "outputs": [
    {
     "data": {
      "text/html": [
       "<div>\n",
       "<style scoped>\n",
       "    .dataframe tbody tr th:only-of-type {\n",
       "        vertical-align: middle;\n",
       "    }\n",
       "\n",
       "    .dataframe tbody tr th {\n",
       "        vertical-align: top;\n",
       "    }\n",
       "\n",
       "    .dataframe thead th {\n",
       "        text-align: right;\n",
       "    }\n",
       "</style>\n",
       "<table border=\"1\" class=\"dataframe\">\n",
       "  <thead>\n",
       "    <tr style=\"text-align: right;\">\n",
       "      <th></th>\n",
       "      <th>City</th>\n",
       "      <th>Lat</th>\n",
       "      <th>Lng</th>\n",
       "      <th>Max Temp</th>\n",
       "      <th>Humidity</th>\n",
       "      <th>Cloudiness</th>\n",
       "      <th>Wind Speed</th>\n",
       "      <th>Country</th>\n",
       "      <th>Date</th>\n",
       "    </tr>\n",
       "  </thead>\n",
       "  <tbody>\n",
       "    <tr>\n",
       "      <th>64</th>\n",
       "      <td>gat</td>\n",
       "      <td>31.6100</td>\n",
       "      <td>34.7642</td>\n",
       "      <td>75.99</td>\n",
       "      <td>55</td>\n",
       "      <td>2</td>\n",
       "      <td>2.77</td>\n",
       "      <td>IL</td>\n",
       "      <td>1619372543</td>\n",
       "    </tr>\n",
       "    <tr>\n",
       "      <th>129</th>\n",
       "      <td>chiredzi</td>\n",
       "      <td>-21.0500</td>\n",
       "      <td>31.6667</td>\n",
       "      <td>73.18</td>\n",
       "      <td>26</td>\n",
       "      <td>0</td>\n",
       "      <td>3.60</td>\n",
       "      <td>ZW</td>\n",
       "      <td>1619372702</td>\n",
       "    </tr>\n",
       "    <tr>\n",
       "      <th>134</th>\n",
       "      <td>beitbridge</td>\n",
       "      <td>-22.2167</td>\n",
       "      <td>30.0000</td>\n",
       "      <td>76.80</td>\n",
       "      <td>19</td>\n",
       "      <td>0</td>\n",
       "      <td>7.29</td>\n",
       "      <td>ZW</td>\n",
       "      <td>1619372703</td>\n",
       "    </tr>\n",
       "    <tr>\n",
       "      <th>191</th>\n",
       "      <td>talagang</td>\n",
       "      <td>32.9297</td>\n",
       "      <td>72.4158</td>\n",
       "      <td>77.61</td>\n",
       "      <td>18</td>\n",
       "      <td>0</td>\n",
       "      <td>4.12</td>\n",
       "      <td>PK</td>\n",
       "      <td>1619372720</td>\n",
       "    </tr>\n",
       "    <tr>\n",
       "      <th>209</th>\n",
       "      <td>buzmeyin</td>\n",
       "      <td>38.0507</td>\n",
       "      <td>58.2056</td>\n",
       "      <td>78.80</td>\n",
       "      <td>25</td>\n",
       "      <td>14</td>\n",
       "      <td>9.22</td>\n",
       "      <td>TM</td>\n",
       "      <td>1619372727</td>\n",
       "    </tr>\n",
       "    <tr>\n",
       "      <th>215</th>\n",
       "      <td>barbacena</td>\n",
       "      <td>-21.2258</td>\n",
       "      <td>-43.7736</td>\n",
       "      <td>78.80</td>\n",
       "      <td>41</td>\n",
       "      <td>0</td>\n",
       "      <td>9.22</td>\n",
       "      <td>BR</td>\n",
       "      <td>1619372729</td>\n",
       "    </tr>\n",
       "    <tr>\n",
       "      <th>339</th>\n",
       "      <td>los andes</td>\n",
       "      <td>-32.8337</td>\n",
       "      <td>-70.5983</td>\n",
       "      <td>75.00</td>\n",
       "      <td>33</td>\n",
       "      <td>0</td>\n",
       "      <td>5.75</td>\n",
       "      <td>CL</td>\n",
       "      <td>1619372770</td>\n",
       "    </tr>\n",
       "    <tr>\n",
       "      <th>374</th>\n",
       "      <td>salt</td>\n",
       "      <td>32.0392</td>\n",
       "      <td>35.7272</td>\n",
       "      <td>78.80</td>\n",
       "      <td>41</td>\n",
       "      <td>3</td>\n",
       "      <td>8.05</td>\n",
       "      <td>JO</td>\n",
       "      <td>1619372780</td>\n",
       "    </tr>\n",
       "    <tr>\n",
       "      <th>414</th>\n",
       "      <td>sayat</td>\n",
       "      <td>38.7839</td>\n",
       "      <td>63.8803</td>\n",
       "      <td>77.00</td>\n",
       "      <td>23</td>\n",
       "      <td>0</td>\n",
       "      <td>9.22</td>\n",
       "      <td>TM</td>\n",
       "      <td>1619372792</td>\n",
       "    </tr>\n",
       "    <tr>\n",
       "      <th>485</th>\n",
       "      <td>ascension</td>\n",
       "      <td>30.2169</td>\n",
       "      <td>-90.9001</td>\n",
       "      <td>75.99</td>\n",
       "      <td>49</td>\n",
       "      <td>1</td>\n",
       "      <td>4.61</td>\n",
       "      <td>US</td>\n",
       "      <td>1619372815</td>\n",
       "    </tr>\n",
       "    <tr>\n",
       "      <th>517</th>\n",
       "      <td>constantine</td>\n",
       "      <td>36.3650</td>\n",
       "      <td>6.6147</td>\n",
       "      <td>78.80</td>\n",
       "      <td>29</td>\n",
       "      <td>0</td>\n",
       "      <td>2.30</td>\n",
       "      <td>DZ</td>\n",
       "      <td>1619372826</td>\n",
       "    </tr>\n",
       "  </tbody>\n",
       "</table>\n",
       "</div>"
      ],
      "text/plain": [
       "            City      Lat      Lng  Max Temp  Humidity  Cloudiness  \\\n",
       "64           gat  31.6100  34.7642     75.99        55           2   \n",
       "129     chiredzi -21.0500  31.6667     73.18        26           0   \n",
       "134   beitbridge -22.2167  30.0000     76.80        19           0   \n",
       "191     talagang  32.9297  72.4158     77.61        18           0   \n",
       "209     buzmeyin  38.0507  58.2056     78.80        25          14   \n",
       "215    barbacena -21.2258 -43.7736     78.80        41           0   \n",
       "339    los andes -32.8337 -70.5983     75.00        33           0   \n",
       "374         salt  32.0392  35.7272     78.80        41           3   \n",
       "414        sayat  38.7839  63.8803     77.00        23           0   \n",
       "485    ascension  30.2169 -90.9001     75.99        49           1   \n",
       "517  constantine  36.3650   6.6147     78.80        29           0   \n",
       "\n",
       "     Wind Speed Country        Date  \n",
       "64         2.77      IL  1619372543  \n",
       "129        3.60      ZW  1619372702  \n",
       "134        7.29      ZW  1619372703  \n",
       "191        4.12      PK  1619372720  \n",
       "209        9.22      TM  1619372727  \n",
       "215        9.22      BR  1619372729  \n",
       "339        5.75      CL  1619372770  \n",
       "374        8.05      JO  1619372780  \n",
       "414        9.22      TM  1619372792  \n",
       "485        4.61      US  1619372815  \n",
       "517        2.30      DZ  1619372826  "
      ]
     },
     "execution_count": 5,
     "metadata": {},
     "output_type": "execute_result"
    }
   ],
   "source": [
    "# get locations with ideal weather for vacation\n",
    "ideal_weather_df = city_weather_df.loc[\n",
    "    (city_weather_df['Humidity'] < 60) &\n",
    "    (city_weather_df['Max Temp'] < 80) &\n",
    "    (city_weather_df['Max Temp'] > 70) &\n",
    "    (city_weather_df['Wind Speed'] < 10) &\n",
    "    (city_weather_df['Cloudiness'] < 25)\n",
    "]\n",
    "ideal_weather_df"
   ]
  },
  {
   "cell_type": "code",
   "execution_count": 6,
   "metadata": {
    "pycharm": {
     "name": "#%%\n"
    }
   },
   "outputs": [],
   "source": [
    "# get hotel information\n",
    "hotel_list = vacationpy.get_hotels(ideal_weather_df)\n"
   ]
  },
  {
   "cell_type": "code",
   "execution_count": 7,
   "metadata": {
    "pycharm": {
     "name": "#%%\n"
    }
   },
   "outputs": [
    {
     "data": {
      "application/vnd.jupyter.widget-view+json": {
       "model_id": "b9f7880ee9dc4fe39dcffbbcb50327ce",
       "version_major": 2,
       "version_minor": 0
      },
      "text/plain": [
       "Figure(layout=FigureLayout(height='420px'))"
      ]
     },
     "metadata": {},
     "output_type": "display_data"
    }
   ],
   "source": [
    "# Plot hotel markers\n",
    "marker_locations = [hotel['marker'] for hotel in hotel_list]\n",
    "hotel_info = [hotel['info_box'] for hotel in hotel_list]\n",
    "markers = gmaps.marker_layer(marker_locations,\n",
    "                              info_box_content=hotel_info)\n",
    "fig.add_layer(markers)\n",
    "\n",
    "# Show plot\n",
    "fig"
   ]
  },
  {
   "cell_type": "code",
   "execution_count": null,
   "metadata": {},
   "outputs": [],
   "source": []
  }
 ],
 "metadata": {
  "kernelspec": {
   "display_name": "Python 3",
   "language": "python",
   "name": "python3"
  },
  "language_info": {
   "codemirror_mode": {
    "name": "ipython",
    "version": 3
   },
   "file_extension": ".py",
   "mimetype": "text/x-python",
   "name": "python",
   "nbconvert_exporter": "python",
   "pygments_lexer": "ipython3",
   "version": "3.8.5"
  }
 },
 "nbformat": 4,
 "nbformat_minor": 1
}